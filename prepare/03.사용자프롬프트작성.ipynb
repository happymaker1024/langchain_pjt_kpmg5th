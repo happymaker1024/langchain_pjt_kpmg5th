{
 "cells": [
  {
   "cell_type": "markdown",
   "id": "47980575",
   "metadata": {},
   "source": [
    "# 사용자 프롬프트 작성"
   ]
  },
  {
   "cell_type": "markdown",
   "id": "ac101b44",
   "metadata": {},
   "source": [
    "- Openai key 로딩, ChatOpenAI() 객체 생성"
   ]
  },
  {
   "cell_type": "code",
   "execution_count": 1,
   "id": "6c0f819e",
   "metadata": {},
   "outputs": [],
   "source": [
    "from dotenv import load_dotenv\n",
    "import os\n",
    "from langchain_openai import ChatOpenAI\n",
    "\n",
    "load_dotenv()\n",
    "\n",
    "api_key = os.getenv('OPENAI_API_KEY')\n",
    "# print(api_key)"
   ]
  },
  {
   "cell_type": "markdown",
   "id": "0fa2134b",
   "metadata": {},
   "source": [
    "# 모델 객체 생성"
   ]
  },
  {
   "cell_type": "code",
   "execution_count": 2,
   "id": "d7bbf6e6",
   "metadata": {},
   "outputs": [],
   "source": [
    "# gpt model 객체 생성\n",
    "# llm = ChatOpenAI(model=\"gpt-4o\", api_key=api_key, temperature=0)\n",
    "llm = ChatOpenAI(model=\"gpt-3.5-turbo-0125\", api_key=api_key, temperature=0)"
   ]
  },
  {
   "cell_type": "code",
   "execution_count": 3,
   "id": "81577762",
   "metadata": {},
   "outputs": [],
   "source": [
    "from langchain_core.prompts import ChatPromptTemplate\n",
    "from langchain_core.output_parsers import StrOutputParser"
   ]
  },
  {
   "cell_type": "markdown",
   "id": "de7544cf",
   "metadata": {},
   "source": [
    "- https://github.com/f/awesome-chatgpt-prompts\n",
    "- 검색 : financial\n",
    "Want assistance provided by qualified individuals enabled with experience on understanding charts using technical analysis tools while interpreting macroeconomic environment prevailing across world consequently assisting customers acquire long term advantages requires clear verdicts therefore seeking same through informed predictions written down precisely! First statement contains following content- \"Can you tell us what future stock market looks like based upon current conditions ?\".\n"
   ]
  },
  {
   "cell_type": "code",
   "execution_count": null,
   "id": "3cd1dd55",
   "metadata": {},
   "outputs": [],
   "source": [
    "# 프롬프트 템플릿\n",
    "system_prompt = \"\"\"\n",
    "Want assistance provided by qualified individuals enabled with experience on understanding charts using technical analysis tools while interpreting macroeconomic environment prevailing across world consequently assisting customers acquire long term advantages requires clear verdicts therefore seeking same through informed predictions written down precisely! First statement contains following content- “Can you tell us what future stock market looks like based upon current conditions ?\".\n",
    "\"\"\"\n",
    "user_prompt = \"\"\"\n",
    "    {company}에 주식을 투자해도 될까요? 마크다운 형식의 투자보고서를 한글로 작성해 주세요.\n",
    "    야래의 기본 정보, 재무제표를 참고해 마크다운 형식의 투자 보고서를 한글로 작성해 주세요.\n",
    "\n",
    "    기본정보:\n",
    "    {basic_info}\n",
    "\n",
    "    재무제표:\n",
    "    {finacial_statement}\n",
    "\"\"\""
   ]
  },
  {
   "cell_type": "code",
   "execution_count": null,
   "id": "3d5f1828",
   "metadata": {},
   "outputs": [
    {
     "data": {
      "text/plain": [
       "ChatPromptTemplate(input_variables=['basic_info', 'company', 'finacial_statement'], input_types={}, partial_variables={}, messages=[SystemMessagePromptTemplate(prompt=PromptTemplate(input_variables=[], input_types={}, partial_variables={}, template='\\nWant assistance provided by qualified individuals enabled with experience on understanding charts using technical analysis tools while interpreting macroeconomic environment prevailing across world consequently assisting customers acquire long term advantages requires clear verdicts therefore seeking same through informed predictions written down precisely! First statement contains following content- “Can you tell us what future stock market looks like based upon current conditions ?\".\\n'), additional_kwargs={}), HumanMessagePromptTemplate(prompt=PromptTemplate(input_variables=['basic_info', 'company', 'finacial_statement'], input_types={}, partial_variables={}, template='\\n    {company}에 주식을 투자해도 될까요? 마크다운 형식의 투자보고서를 한글로 작성해 주세요.\\n    야래의 기본 정보, 재무제표를 참고해 마크다운 형식의 투자 보고서를 한글로 작성해 주세요.\\n\\n    기본정보:\\n    {basic_info}\\n\\n    재무제표:\\n    {finacial_statement}\\n'), additional_kwargs={})])"
      ]
     },
     "execution_count": 5,
     "metadata": {},
     "output_type": "execute_result"
    }
   ],
   "source": [
    "# 프롬프트 객체 생성\n",
    "prompt = ChatPromptTemplate.from_messages([\n",
    "    (\"system\", system_prompt),\n",
    "    (\"user\", user_prompt)\n",
    "])\n",
    "prompt"
   ]
  },
  {
   "cell_type": "code",
   "execution_count": 6,
   "id": "eedf7621",
   "metadata": {},
   "outputs": [
    {
     "data": {
      "text/plain": [
       "StrOutputParser()"
      ]
     },
     "execution_count": 6,
     "metadata": {},
     "output_type": "execute_result"
    }
   ],
   "source": [
    "output_parser = StrOutputParser()\n",
    "output_parser"
   ]
  },
  {
   "cell_type": "code",
   "execution_count": 7,
   "id": "374305db",
   "metadata": {},
   "outputs": [],
   "source": [
    "# from stock_info import Stock 인식이 안될 경우 아래 코드 실행\n",
    "import sys\n",
    "import os\n",
    "\n",
    "if '__file__' in globals():\n",
    "    # sys.path.append(os.path.dirname(os.path.abspath(__file__)))\n",
    "    sys.path.append(os.path.dirname(os.path.dirname(os.path.abspath(__file__))))\n",
    "else:\n",
    "    # 예: 노트북 환경일 경우 현재 작업 디렉토리 추가\n",
    "    sys.path.append(os.getcwd())"
   ]
  },
  {
   "cell_type": "code",
   "execution_count": null,
   "id": "a7e93380",
   "metadata": {},
   "outputs": [],
   "source": [
    "# chain 구성 : LCEL(LangChain Expression Language)\n",
    "chain = prompt | llm | output_parser\n",
    "\n",
    "# 회사 이름\n",
    "# company = \"MicroSoft\"\n",
    "# symbol = \"MSFT\"  # stock의 symbol 정보\n",
    "\n",
    "company = \"Apple Inc\"\n",
    "symbol = \"AAPL\"\n",
    "# 기본정보 :  basic_info\n",
    "# 재무제표: finacial_statement\n",
    "\n",
    "# stock 정보를 객체로 모듈화해서 불러오기\n",
    "from stock_info import Stock\n",
    "\n",
    "stock = Stock(symbol)\n",
    "req_value = {\n",
    "    \"company\":company,\n",
    "    # 기본정보 :  basic_info\n",
    "    \"basic_info\": stock.get_basic_info(),\n",
    "    # 재무제표: finacial_statement\n",
    "    \"finacial_statement\" : stock.get_financial_statement()\n",
    "            }\n",
    "\n",
    "response = chain.invoke(req_value)"
   ]
  },
  {
   "cell_type": "code",
   "execution_count": 15,
   "id": "b149504c",
   "metadata": {},
   "outputs": [
    {
     "name": "stdout",
     "output_type": "stream",
     "text": [
      "# Apple Inc. 투자 보고서\n",
      "\n",
      "## 기본 정보:\n",
      "- 기업명: Apple Inc.\n",
      "- 시가총액: 3,045,708,267,520\n",
      "- 산업: 소비자 전자제품\n",
      "- 섹터: 기술\n",
      "- 정규직 종업원 수: 164,000명\n",
      "- 현재 주가: $203.92\n",
      "- 기업 가치: 3,095,401,594,880\n",
      "\n",
      "## 재무제표:\n",
      "\n",
      "### 손익계산서\n",
      "| 항목              | 2024년 | 2023년 | 2022년 | 2021년 | 2020년 |\n",
      "|:------------------|--------:|--------:|--------:|--------:|--------:|\n",
      "| 총 수익           | 3.91035e+11 | 3.83285e+11 | 3.94328e+11 | 3.65817e+11 | nan |\n",
      "| 총 이익           | 1.80683e+11 | 1.69148e+11 | 1.70782e+11 | 1.52836e+11 | nan |\n",
      "| 영업 이익         | 1.23216e+11 | 1.14301e+11 | 1.19437e+11 | 1.08949e+11 | nan |\n",
      "| 순 이익           | 9.3736e+10 | 9.6995e+10 | 9.9803e+10 | 9.468e+10 | nan |\n",
      "\n",
      "### 대차대조표\n",
      "| 항목                                      | 2024년 | 2023년 | 2022년 | 2021년 | 2020년 |\n",
      "|:-----------------------------------------|--------:|--------:|--------:|--------:|--------:|\n",
      "| 총 자산                                  | 3.6498e+11 | 3.52583e+11 | 3.52755e+11 | 3.51002e+11 | nan |\n",
      "| 총 부채 및 마이너리티 이익 차익 | 3.0803e+11 | 2.90437e+11 | 3.02083e+11 | 2.87912e+11 | nan |\n",
      "| 주주 자본                               | 5.695e+10 | 6.2146e+10 | 5.0672e+10 | 6.309e+10 | nan |\n",
      "\n",
      "### 현금 흐름표\n",
      "| 항목                    | 2024년 | 2023년 | 2022년 | 2021년 | 2020년 |\n",
      "|:-----------------------|--------:|--------:|--------:|--------:|--------:|\n",
      "| 영업 현금 흐름       | 1.18254e+11 | 1.10543e+11 | 1.22151e+11 | 1.04038e+11 | nan |\n",
      "| 투자 현금 흐름       | 2.935e+09 | 3.705e+09 | -2.2354e+10 | -1.4545e+10 | nan |\n",
      "| 재무 현금 흐름       | -1.21983e+11 | -1.08488e+11 | -1.10749e+11 | -9.3353e+10 | nan |\n",
      "\n",
      "주식 투자에 대한 결정은 개별 투자자의 투자 목표, 위험 선호도 및 재무 상태에 따라 다를 수 있습니다. 현재 Apple Inc.의 재무 상태는 안정적으로 보이지만, 향후 주가에 영향을 미칠 수 있는 다양한 요인들이 존재합니다. 따라서 투자 결정을 내리실 때에는 신중한 검토와 전문가의 조언을 구하는 것이 중요합니다.\n"
     ]
    }
   ],
   "source": [
    "print(response)"
   ]
  },
  {
   "cell_type": "code",
   "execution_count": null,
   "id": "75b7c844",
   "metadata": {},
   "outputs": [],
   "source": []
  }
 ],
 "metadata": {
  "kernelspec": {
   "display_name": "lc_env",
   "language": "python",
   "name": "python3"
  },
  "language_info": {
   "codemirror_mode": {
    "name": "ipython",
    "version": 3
   },
   "file_extension": ".py",
   "mimetype": "text/x-python",
   "name": "python",
   "nbconvert_exporter": "python",
   "pygments_lexer": "ipython3",
   "version": "3.12.11"
  }
 },
 "nbformat": 4,
 "nbformat_minor": 5
}
